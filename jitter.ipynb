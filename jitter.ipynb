{
 "cells": [
  {
   "cell_type": "code",
   "execution_count": 1,
   "id": "6ca17558",
   "metadata": {},
   "outputs": [],
   "source": [
    "import math"
   ]
  },
  {
   "cell_type": "code",
   "execution_count": 2,
   "id": "0642ea41",
   "metadata": {},
   "outputs": [],
   "source": [
    "#Example: A 141 MHz oscillator has a phase noise of –56.75 dBc/Hz at a 1 kHz offset frequency. \n",
    "#This corresponds to a cycle-to-cycle jitter of 0.866 ps."
   ]
  },
  {
   "cell_type": "code",
   "execution_count": 3,
   "id": "9a96afe0",
   "metadata": {},
   "outputs": [
    {
     "data": {
      "text/plain": [
       "8.683030589758877e-13"
      ]
     },
     "execution_count": 3,
     "metadata": {},
     "output_type": "execute_result"
    }
   ],
   "source": [
    "math.sqrt(1e3**2*10.0**(-5.675)/(141e6)**3)"
   ]
  },
  {
   "cell_type": "code",
   "execution_count": 8,
   "id": "c0d57d77",
   "metadata": {},
   "outputs": [
    {
     "data": {
      "text/plain": [
       "2.502966324252265e-13"
      ]
     },
     "execution_count": 8,
     "metadata": {},
     "output_type": "execute_result"
    }
   ],
   "source": [
    "math.sqrt(1e6**2*10.0**(-9.3)/(2e9)**3)"
   ]
  }
 ],
 "metadata": {
  "kernelspec": {
   "display_name": "Python 3 (ipykernel)",
   "language": "python",
   "name": "python3"
  },
  "language_info": {
   "codemirror_mode": {
    "name": "ipython",
    "version": 3
   },
   "file_extension": ".py",
   "mimetype": "text/x-python",
   "name": "python",
   "nbconvert_exporter": "python",
   "pygments_lexer": "ipython3",
   "version": "3.10.0"
  }
 },
 "nbformat": 4,
 "nbformat_minor": 5
}
